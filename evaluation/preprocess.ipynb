{
 "cells": [
  {
   "cell_type": "code",
   "execution_count": 1,
   "metadata": {},
   "outputs": [],
   "source": [
    "import numpy as np\n",
    "from operator import itemgetter\n",
    "import pandas as pd\n",
    "import pathlib  \n",
    "import html \n"
   ]
  },
  {
   "cell_type": "code",
   "execution_count": 2,
   "metadata": {},
   "outputs": [],
   "source": [
    "def add_quotes(val):\n",
    "    if isinstance(val, str) and not ('\\\"' in val):\n",
    "        return f'\\\"{val}\\\"'\n",
    "    return val\n",
    "\n",
    "\n",
    "def replace_quotes(val):\n",
    "    if isinstance(val, str):\n",
    "        return val.replace('\\\"', '\\'').replace('\\\"', '\\'')\n",
    "    return val\n",
    "\n",
    "\n",
    "def replace_para(val):\n",
    "    if isinstance(val, str):\n",
    "        return val.replace('(', '\\t').replace(')', '\\t')\n",
    "    return val"
   ]
  },
  {
   "cell_type": "code",
   "execution_count": 3,
   "metadata": {},
   "outputs": [
    {
     "data": {
      "text/plain": [
       "96335377"
      ]
     },
     "execution_count": 3,
     "metadata": {},
     "output_type": "execute_result"
    }
   ],
   "source": [
    "raw_paths = [  pathlib.Path().cwd()/\"data\" /\"soc-pokec-profiles.txt\", \n",
    "               pathlib.Path().cwd()/\"data\"/\"soc-pokec-relationships.txt\"]\n",
    "\n",
    "node_fields = [\n",
    "            \"public\",\n",
    "            \"completion_percentage\",\n",
    "            \"gender\",\n",
    "            \"region\",\n",
    "            \"last_login\",\n",
    "            \"registration\",\n",
    "            \"AGE\",\n",
    "            \"body\",\n",
    "            \"I_am_working_in_field\",\n",
    "            \"spoken_languages\",\n",
    "            \"hobbies\",\n",
    "            \"I_most_enjoy_good_food\",\n",
    "            \"pets\",\n",
    "            \"body_type\",\n",
    "            \"my_eyesight\",\n",
    "            \"eye_color\",\n",
    "            \"hair_color\",\n",
    "            \"hair_type\",\n",
    "            \"completed_level_of_education\",\n",
    "            \"favourite_color\",\n",
    "            \"relation_to_smoking\",\n",
    "            \"relation_to_alcohol\",\n",
    "            \"sign_in_zodiac\",\n",
    "            \"on_pokec_i_am_looking_for\",\n",
    "            \"love_is_for_me\",\n",
    "            \"relation_to_casual_sex\",\n",
    "            \"my_partner_should_be\",\n",
    "            \"marital_status\",\n",
    "            \"children\",\n",
    "            \"relation_to_children\",\n",
    "            \"I_like_movies\",\n",
    "            \"I_like_watching_movie\",\n",
    "            \"I_like_music\",\n",
    "            \"I_mostly_like_listening_to_music\",\n",
    "            \"the_idea_of_good_evening\",\n",
    "            \"I_like_specialties_from_kitchen\",\n",
    "            \"fun\",\n",
    "            \"I_am_going_to_concerts\",\n",
    "            \"my_active_sports\",\n",
    "            \"my_passive_sports\",\n",
    "            \"profession\",\n",
    "            \"I_like_books\",\n",
    "            \"life_style\",\n",
    "            \"music\",\n",
    "            \"cars\",\n",
    "            \"politics\",\n",
    "            \"relationships\",\n",
    "            \"art_culture\",\n",
    "            \"hobbies_interests\",\n",
    "            \"science_technologies\",\n",
    "            \"computers_internet\",\n",
    "            \"education\",\n",
    "            \"sport\",\n",
    "            \"movies\",\n",
    "            \"travelling\",\n",
    "            \"health\",\n",
    "            \"companies_brands\",\n",
    "            \"more\",\n",
    "            \"\"\n",
    "        ]\n",
    "dfn = pd.read_csv(raw_paths[0], sep = \"\\t\", names = node_fields, nrows = None)\n",
    "dfe = pd.read_csv(raw_paths[1], sep = \"\\t\", names = [\"source\", \"target\"], nrows = None)\n",
    "\n",
    "\n",
    "# transform nodes\n",
    "\n",
    "dfn =dfn.map(lambda x: html.escape(x) if isinstance(x, str) else x)\n",
    "dfn = dfn.map(add_quotes)\n",
    "# dfn[\"last_login\"] = dfn[\"last_login\"].apply(lambda row: f\"\"\"dateTime({row})\"\"\" )\n",
    "# dfn[\"registration\"] = dfn[\"registration\"].apply(lambda row: f\"\"\"dateTime({row})\"\"\") \n",
    "# transform edges\n",
    "dfe = dfe.astype({'source': 'str', 'target': 'str'})\n",
    "node_frame = dfn\n",
    "edge_frame = dfe\n",
    "\n",
    "# save as hdf\n",
    "# store[\"dfn\"] = dfn\n",
    "# store[\"dfe\"] = dfe\n",
    "# store.close()\n",
    "len(dfn) * len(node_fields)"
   ]
  },
  {
   "cell_type": "code",
   "execution_count": 4,
   "metadata": {},
   "outputs": [
    {
     "data": {
      "text/plain": [
       "1632803"
      ]
     },
     "execution_count": 4,
     "metadata": {},
     "output_type": "execute_result"
    }
   ],
   "source": [
    "len(dfn)"
   ]
  },
  {
   "cell_type": "code",
   "execution_count": 40,
   "metadata": {},
   "outputs": [],
   "source": [
    "# transform nodes\n",
    "\n",
    "node_strings = dfn.apply(\n",
    "    lambda row: f\"N{row.name}:people \"+' '.join([f\"{col}:{row[col]}\" for col in dfn.columns if pd.notna(row[col])]),\n",
    "    axis=1\n",
    ")\n",
    "\n",
    "edge_strings = dfe.apply(\n",
    "    lambda row: f\"N{row[\"source\"]} -> N{row[\"target\"]}: follow\",\n",
    "    axis=1\n",
    ")\n"
   ]
  },
  {
   "cell_type": "code",
   "execution_count": 43,
   "metadata": {},
   "outputs": [],
   "source": [
    "with open(pathlib.Path().cwd()/\"data\" /\"soc-pokec.qm\",'w') as f:\n",
    "    for row in node_strings:\n",
    "        f.write(row + \"\\n\")\n",
    "    for row in edge_strings:\n",
    "        f.write(row + \"\\n\")"
   ]
  },
  {
   "cell_type": "code",
   "execution_count": 1,
   "metadata": {},
   "outputs": [
    {
     "ename": "NameError",
     "evalue": "name 'dfe' is not defined",
     "output_type": "error",
     "traceback": [
      "\u001b[0;31m---------------------------------------------------------------------------\u001b[0m",
      "\u001b[0;31mNameError\u001b[0m                                 Traceback (most recent call last)",
      "Cell \u001b[0;32mIn[1], line 1\u001b[0m\n\u001b[0;32m----> 1\u001b[0m \u001b[38;5;28mlen\u001b[39m(\u001b[43mdfe\u001b[49m) \u001b[38;5;241m+\u001b[39m \u001b[38;5;28mlen\u001b[39m(dfn)\n",
      "\u001b[0;31mNameError\u001b[0m: name 'dfe' is not defined"
     ]
    }
   ],
   "source": [
    "len(dfe) + len(dfn)"
   ]
  }
 ],
 "metadata": {
  "kernelspec": {
   "display_name": "Python 3",
   "language": "python",
   "name": "python3"
  },
  "language_info": {
   "codemirror_mode": {
    "name": "ipython",
    "version": 3
   },
   "file_extension": ".py",
   "mimetype": "text/x-python",
   "name": "python",
   "nbconvert_exporter": "python",
   "pygments_lexer": "ipython3",
   "version": "3.12.3"
  }
 },
 "nbformat": 4,
 "nbformat_minor": 2
}
